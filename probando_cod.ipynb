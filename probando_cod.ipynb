{
 "cells": [
  {
   "cell_type": "code",
   "execution_count": 6,
   "metadata": {},
   "outputs": [],
   "source": [
    "# Crear un API token en Replicate para nuestro modelo, y asignarlo a una variable de entorno:\n",
    "\n",
    "import replicate\n",
    "import os\n",
    "import streamlit as st\n",
    "\n",
    "os.environ['REPLICATE_API_TOKEN'] = \"r8_Y1ITkvUWZqgHaBWqm8cbCBCyheZLZSG2vyEE3\"\n",
    "api = replicate.Client(api_token=os.environ[\"REPLICATE_API_TOKEN\"])"
   ]
  },
  {
   "cell_type": "code",
   "execution_count": 11,
   "metadata": {},
   "outputs": [],
   "source": [
    "prompt = \"Dinosaurio rojo\""
   ]
  },
  {
   "cell_type": "code",
   "execution_count": 16,
   "metadata": {},
   "outputs": [],
   "source": [
    "def generate_stabledif_response(prompt_input):\n",
    "    # string_dialogue = \"You are a helpful assistant. You do not respond as 'User' or pretend to be 'User'. You only respond once as 'Assistant'.\"\n",
    "    # for dict_message in st.session_state.messages:\n",
    "    #     if dict_message[\"role\"] == \"user\":\n",
    "    #         string_dialogue += \"User: \" + dict_message[\"content\"] + \"\\n\\n\"\n",
    "    #     else:\n",
    "    #         string_dialogue += \"Assistant: \" + dict_message[\"content\"] + \"\\n\\n\"\n",
    "    output = replicate.run(\"stability-ai/stable-diffusion:ac732df83cea7fff18b8472768c88ad041fa750ff7682a21affe81863cbe77e4\",\n",
    "                input={\n",
    "                    \"width\": 768,\n",
    "                    \"height\": 768,\n",
    "                    \"prompt\": prompt_input,\n",
    "                    \"scheduler\": \"K_EULER\",\n",
    "                    \"num_outputs\": 1,\n",
    "                    \"guidance_scale\": 7.5,\n",
    "                    \"num_inference_steps\": 50})\n",
    "    return output\n",
    "\n",
    "img = generate_stabledif_response(prompt)"
   ]
  },
  {
   "cell_type": "code",
   "execution_count": 24,
   "metadata": {},
   "outputs": [
    {
     "ename": "IndentationError",
     "evalue": "expected an indented block (121809887.py, line 5)",
     "output_type": "error",
     "traceback": [
      "\u001b[1;36m  Cell \u001b[1;32mIn[24], line 5\u001b[1;36m\u001b[0m\n\u001b[1;33m    f.write(r.content)\u001b[0m\n\u001b[1;37m    ^\u001b[0m\n\u001b[1;31mIndentationError\u001b[0m\u001b[1;31m:\u001b[0m expected an indented block\n"
     ]
    }
   ],
   "source": []
  }
 ],
 "metadata": {
  "kernelspec": {
   "display_name": "deep_learning_env",
   "language": "python",
   "name": "python3"
  },
  "language_info": {
   "codemirror_mode": {
    "name": "ipython",
    "version": 3
   },
   "file_extension": ".py",
   "mimetype": "text/x-python",
   "name": "python",
   "nbconvert_exporter": "python",
   "pygments_lexer": "ipython3",
   "version": "3.9.18"
  }
 },
 "nbformat": 4,
 "nbformat_minor": 2
}
